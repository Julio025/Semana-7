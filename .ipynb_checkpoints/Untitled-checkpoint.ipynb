{
 "cells": [
  {
   "cell_type": "code",
   "execution_count": 16,
   "metadata": {},
   "outputs": [
    {
     "data": {
      "application/vnd.jupyter.widget-view+json": {
       "model_id": "2f4589a7bdb0434f932eafc352d5f6b6",
       "version_major": 2,
       "version_minor": 0
      },
      "text/plain": [
       "interactive(children=(FloatSlider(value=2.0, description='gain', max=10.0, min=1.0), IntSlider(value=10, descr…"
      ]
     },
     "metadata": {},
     "output_type": "display_data"
    }
   ],
   "source": [
    "import cv2\n",
    "import numpy as np\n",
    "from scipy.fftpack import fft2, ifft2, fftshift\n",
    "import matplotlib.pyplot as plt\n",
    "from ipywidgets import interact, widgets\n",
    "\n",
    "# Función para aplicar el filtro de alto aumento en el dominio de la frecuencia\n",
    "def apply_high_boost_filter(image, gain, cutoff_frequency):\n",
    "    rows, cols = image.shape\n",
    "    crow, ccol = rows // 2, cols // 2\n",
    "\n",
    "    # Aplicar la transformada de Fourier a la imagen\n",
    "    f_image = fft2(image)\n",
    "\n",
    "    # Crear el filtro de alto aumento en el dominio de la frecuencia\n",
    "    high_boost_filter = np.ones((rows, cols), np.float32)\n",
    "    radius = cutoff_frequency // 2\n",
    "    cv2.circle(high_boost_filter, (ccol, crow), radius, 0, -1)\n",
    "    high_boost_filter = gain * (1 - high_boost_filter) + 1\n",
    "\n",
    "    # Aplicar el filtro de alto aumento en el dominio de la frecuencia\n",
    "    f_result = f_image * fftshift(high_boost_filter)\n",
    "\n",
    "    # Aplicar la transformada inversa de Fourier para obtener la imagen filtrada\n",
    "    result = np.abs(ifft2(f_result))\n",
    "\n",
    "    return result\n",
    "\n",
    "# Función para actualizar la imagen con el filtro de alto aumento aplicado\n",
    "def update_image(gain, cutoff_frequency):\n",
    "    # Aplicar el filtro de alto aumento en el dominio de la frecuencia\n",
    "    filtered_image = apply_high_boost_filter(original_image, gain, cutoff_frequency)\n",
    "\n",
    "    # Mostrar las imágenes original, filtro frecuencial y resultado\n",
    "    plt.figure(figsize=(12, 4))\n",
    "    plt.subplot(131), plt.imshow(original_image, cmap='gray'), plt.title('Imagen Original')\n",
    "    plt.subplot(132), plt.imshow(np.log(1 + np.abs(fftshift(fft2(original_image)))), cmap='gray'), plt.title('Filtro Frecuencial')\n",
    "    plt.subplot(133), plt.imshow(filtered_image, cmap='gray'), plt.title('Resultado con Filtro')\n",
    "    plt.show()\n",
    "\n",
    "# Cargar una imagen de ejemplo\n",
    "original_image = cv2.imread('myers3.jpg', cv2.IMREAD_GRAYSCALE)\n",
    "\n",
    "# Interfaz interactiva con sliders para controlar la ganancia y tamaño del filtro\n",
    "interact(update_image, gain=widgets.FloatSlider(min=1, max=10, step=0.1, value=2),\n",
    "         cutoff_frequency=widgets.IntSlider(min=1, max=100, step=1, value=10));\n",
    "ventana.mainloop()\n"
   ]
  }
 ],
 "metadata": {
  "kernelspec": {
   "display_name": "Python 3",
   "language": "python",
   "name": "python3"
  },
  "language_info": {
   "codemirror_mode": {
    "name": "ipython",
    "version": 3
   },
   "file_extension": ".py",
   "mimetype": "text/x-python",
   "name": "python",
   "nbconvert_exporter": "python",
   "pygments_lexer": "ipython3",
   "version": "3.6.6"
  }
 },
 "nbformat": 4,
 "nbformat_minor": 2
}
