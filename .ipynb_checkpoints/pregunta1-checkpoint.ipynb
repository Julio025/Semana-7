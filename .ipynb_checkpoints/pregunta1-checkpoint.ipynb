{
 "cells": [
  {
   "cell_type": "code",
   "execution_count": 1,
   "metadata": {},
   "outputs": [],
   "source": [
    "import tkinter as tk\n",
    "from PIL import Image, ImageTk\n",
    "import numpy as np\n",
    "import cv2\n",
    "\n",
    "def escalar_imagen(image, max_width):\n",
    "    original_height, original_width = image.shape\n",
    "    ratio = max_width / original_width\n",
    "    height = int(original_height * ratio)\n",
    "    return cv2.resize(image, (max_width, height))\n",
    "\n",
    "def mostrar_imagen(image, label, max_width):\n",
    "    imagen_resized = escalar_imagen(image, max_width)\n",
    "    imagen_tk = ImageTk.PhotoImage(image=Image.fromarray(imagen_resized))\n",
    "    label.config(image=imagen_tk)\n",
    "    label.image = imagen_tk\n",
    "\n",
    "def actualizar_filtro(valor):\n",
    "    mostrar_imagen(img, label_matriz, 300)\n",
    "    mostrar_imagen(img, label_g_real, 300)\n",
    "\n",
    "image_path = \"myers.jpg\"  # Ruta de la imagen a mostrar\n",
    "img = cv2.imread(image_path, 0)\n",
    "\n",
    "ventana = tk.Tk()\n",
    "ventana.title(\"Mostrar Imagen y Matriz con Tkinter\")\n",
    "\n",
    "label_imagen = tk.Label(ventana)\n",
    "mostrar_imagen(img, label_imagen, 300)\n",
    "label_imagen.grid(row=0, column=0, padx=10, pady=10)\n",
    "\n",
    "label_matriz = tk.Label(ventana)\n",
    "label_matriz.grid(row=0, column=1, padx=10, pady=10)\n",
    "\n",
    "label_g_real = tk.Label(ventana)\n",
    "label_g_real.grid(row=0, column=2, padx=10, pady=10)\n",
    "\n",
    "slider_n = tk.Scale(ventana, from_=1, to=20, orient=tk.HORIZONTAL,\n",
    "                    label=\"Valor de n\", command=actualizar_filtro)\n",
    "slider_n.set(2)\n",
    "slider_n.grid(row=1, column=0, columnspan=3, pady=10)\n",
    "\n",
    "ventana.mainloop()\n",
    "\n"
   ]
  }
 ],
 "metadata": {
  "kernelspec": {
   "display_name": "Python 3",
   "language": "python",
   "name": "python3"
  },
  "language_info": {
   "codemirror_mode": {
    "name": "ipython",
    "version": 3
   },
   "file_extension": ".py",
   "mimetype": "text/x-python",
   "name": "python",
   "nbconvert_exporter": "python",
   "pygments_lexer": "ipython3",
   "version": "3.6.6"
  }
 },
 "nbformat": 4,
 "nbformat_minor": 2
}
