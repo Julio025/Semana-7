{
 "cells": [
  {
   "cell_type": "code",
   "execution_count": 14,
   "metadata": {},
   "outputs": [
    {
     "data": {
      "application/vnd.jupyter.widget-view+json": {
       "model_id": "be7789790f6c49d1a282b32b267f814b",
       "version_major": 2,
       "version_minor": 0
      },
      "text/plain": [
       "interactive(children=(IntSlider(value=10, description='filter_size', min=1), Output()), _dom_classes=('widget-…"
      ]
     },
     "metadata": {},
     "output_type": "display_data"
    }
   ],
   "source": [
    "import cv2\n",
    "import numpy as np\n",
    "from scipy.fftpack import fft2, ifft2, fftshift\n",
    "import matplotlib.pyplot as plt\n",
    "from ipywidgets import interact, widgets\n",
    "\n",
    "# Función para aplicar el filtro en el dominio de la frecuencia\n",
    "def apply_frequency_filter(image, filter_size):\n",
    "    rows, cols = image.shape\n",
    "    crow, ccol = rows // 2, cols // 2\n",
    "\n",
    "    # Crear la máscara circular con un centro blanco difuminado usando Gaussiana\n",
    "    mask = np.zeros((rows, cols), np.uint8)\n",
    "    radius = filter_size // 2\n",
    "    cv2.circle(mask, (ccol, crow), radius, 255, -1)\n",
    "\n",
    "    # Aplicar la transformada de Fourier a la imagen y la máscara\n",
    "    f_image = fft2(image)\n",
    "    f_mask = fft2(mask)\n",
    "\n",
    "    # Aplicar el filtro en el dominio de la frecuencia\n",
    "    f_result = f_image * fftshift(f_mask)\n",
    "\n",
    "    # Aplicar la transformada inversa de Fourier para obtener la imagen filtrada\n",
    "    result = np.abs(ifft2(f_result))\n",
    "\n",
    "    return result\n",
    "\n",
    "# Función para actualizar la imagen con el suavizado aplicado\n",
    "def update_image(filter_size):\n",
    "    # Aplicar el filtro en el dominio de la frecuencia\n",
    "    filtered_image = apply_frequency_filter(original_image, filter_size)\n",
    "\n",
    "    # Mostrar las imágenes original, filtro frecuencial y resultado\n",
    "    plt.figure(figsize=(12, 4))\n",
    "    plt.subplot(131), plt.imshow(original_image, cmap='gray'), plt.title('Imagen Original')\n",
    "    plt.subplot(132), plt.imshow(np.log(1 + np.abs(fftshift(fft2(original_image)))), cmap='gray'), plt.title('Filtro Frecuencial')\n",
    "    plt.subplot(133), plt.imshow(filtered_image, cmap='gray'), plt.title('Resultado con Filtro')\n",
    "    plt.show()\n",
    "\n",
    "# Cargar una imagen de ejemplo\n",
    "original_image = cv2.imread('myers2.jpg', cv2.IMREAD_GRAYSCALE)\n",
    "\n",
    "# Interfaz interactiva con un slider para controlar el tamaño del filtro\n",
    "interact(update_image, filter_size=widgets.IntSlider(min=1, max=100, step=1, value=10));\n",
    "ventana.mainloop()\n",
    "\n"
   ]
  }
 ],
 "metadata": {
  "kernelspec": {
   "display_name": "Python 3",
   "language": "python",
   "name": "python3"
  },
  "language_info": {
   "codemirror_mode": {
    "name": "ipython",
    "version": 3
   },
   "file_extension": ".py",
   "mimetype": "text/x-python",
   "name": "python",
   "nbconvert_exporter": "python",
   "pygments_lexer": "ipython3",
   "version": "3.6.6"
  }
 },
 "nbformat": 4,
 "nbformat_minor": 2
}
